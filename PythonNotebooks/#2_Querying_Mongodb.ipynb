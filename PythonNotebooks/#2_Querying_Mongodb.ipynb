{
 "cells": [
  {
   "cell_type": "code",
   "execution_count": 1,
   "metadata": {
    "collapsed": true
   },
   "outputs": [],
   "source": [
    "from pymongo import MongoClient\n",
    "import datetime"
   ]
  },
  {
   "cell_type": "code",
   "execution_count": 2,
   "metadata": {
    "collapsed": true
   },
   "outputs": [],
   "source": [
    "client = MongoClient('mongodb://localhost:27017/')\n",
    "mydb = client['test-database']"
   ]
  },
  {
   "cell_type": "code",
   "execution_count": 3,
   "metadata": {
    "collapsed": true
   },
   "outputs": [],
   "source": [
    "mydb.posts.drop()"
   ]
  },
  {
   "cell_type": "code",
   "execution_count": 4,
   "metadata": {
    "collapsed": true
   },
   "outputs": [],
   "source": [
    "post = {\n",
    "        \"author\": \"Duke 5\",\n",
    "        \"title\" : \"PyMongo 101 - 5\",\n",
    "        \"tags\" : [\"MongoDB 5\", \"PyMongo 101 - A5\", \"Tutorial 5\"],\n",
    "        \"date\" : datetime.datetime.utcnow()\n",
    "        }"
   ]
  },
  {
   "cell_type": "code",
   "execution_count": 5,
   "metadata": {
    "collapsed": true
   },
   "outputs": [],
   "source": [
    "posts = mydb.posts"
   ]
  },
  {
   "cell_type": "code",
   "execution_count": 6,
   "metadata": {
    "collapsed": true
   },
   "outputs": [],
   "source": [
    "post_id = posts.insert_one(post)"
   ]
  },
  {
   "cell_type": "code",
   "execution_count": 7,
   "metadata": {
    "collapsed": true
   },
   "outputs": [],
   "source": [
    "new_posts = [{\"author\": \"Duke 6\",\n",
    "              \"title\" : \"PyMongo 101-A6\",\n",
    "              \"tags\" : [\"MongoDB 6\", \"PyMongo 6\", \"Tutorial 6\"],\n",
    "              \"date\" : datetime.datetime(2015, 11, 28, 01, 13)},\n",
    "             {\"author\": \"Adja\",\n",
    "              \"title\": \"MongoDB 101-A7\",\n",
    "              \"note\": \"Schema free MongoDB\",\n",
    "              \"date\": datetime.datetime(2015, 11, 29, 11, 42)}\n",
    "            ]"
   ]
  },
  {
   "cell_type": "code",
   "execution_count": 8,
   "metadata": {},
   "outputs": [
    {
     "data": {
      "text/plain": [
       "<pymongo.results.InsertManyResult at 0x842b948>"
      ]
     },
     "execution_count": 8,
     "metadata": {},
     "output_type": "execute_result"
    }
   ],
   "source": [
    "mydb.posts.insert_many(new_posts)"
   ]
  },
  {
   "cell_type": "code",
   "execution_count": 9,
   "metadata": {},
   "outputs": [
    {
     "name": "stdout",
     "output_type": "stream",
     "text": [
      "{u'date': datetime.datetime(2018, 1, 9, 14, 6, 25, 205000), u'_id': ObjectId('5a54cc621d498831cc895aea'), u'author': u'Duke 5', u'tags': [u'MongoDB 5', u'PyMongo 101 - A5', u'Tutorial 5'], u'title': u'PyMongo 101 - 5'}\n",
      "{u'date': datetime.datetime(2015, 11, 28, 1, 13), u'_id': ObjectId('5a54cc631d498831cc895aeb'), u'author': u'Duke 6', u'tags': [u'MongoDB 6', u'PyMongo 6', u'Tutorial 6'], u'title': u'PyMongo 101-A6'}\n",
      "{u'note': u'Schema free MongoDB', u'date': datetime.datetime(2015, 11, 29, 11, 42), u'_id': ObjectId('5a54cc631d498831cc895aec'), u'author': u'Adja', u'title': u'MongoDB 101-A7'}\n"
     ]
    }
   ],
   "source": [
    "for post in mydb.posts.find():\n",
    "    print post"
   ]
  },
  {
   "cell_type": "code",
   "execution_count": 10,
   "metadata": {},
   "outputs": [
    {
     "name": "stdout",
     "output_type": "stream",
     "text": [
      "{u'note': u'Schema free MongoDB', u'date': datetime.datetime(2015, 11, 29, 11, 42), u'_id': ObjectId('5a54cc631d498831cc895aec'), u'author': u'Adja', u'title': u'MongoDB 101-A7'}\n"
     ]
    }
   ],
   "source": [
    "for post in mydb.posts.find({\"author\": \"Adja\"}):\n",
    "    print post"
   ]
  },
  {
   "cell_type": "code",
   "execution_count": 11,
   "metadata": {},
   "outputs": [
    {
     "name": "stdout",
     "output_type": "stream",
     "text": [
      "{u'note': u'Schema free MongoDB', u'date': datetime.datetime(2015, 11, 29, 11, 42), u'_id': ObjectId('5a54cc631d498831cc895aec'), u'author': u'Adja', u'title': u'MongoDB 101-A7'}\n",
      "{u'date': datetime.datetime(2015, 11, 28, 1, 13), u'_id': ObjectId('5a54cc631d498831cc895aeb'), u'author': u'Duke 6', u'tags': [u'MongoDB 6', u'PyMongo 6', u'Tutorial 6'], u'title': u'PyMongo 101-A6'}\n"
     ]
    }
   ],
   "source": [
    "for post in mydb.posts.find({\"date\": {\"$lt\": datetime.datetime(2015, 12, 1)}}).sort(\"author\"):\n",
    "    print post"
   ]
  }
 ],
 "metadata": {
  "kernelspec": {
   "display_name": "Python 2",
   "language": "python",
   "name": "python2"
  },
  "language_info": {
   "codemirror_mode": {
    "name": "ipython",
    "version": 2
   },
   "file_extension": ".py",
   "mimetype": "text/x-python",
   "name": "python",
   "nbconvert_exporter": "python",
   "pygments_lexer": "ipython2",
   "version": "2.7.13"
  }
 },
 "nbformat": 4,
 "nbformat_minor": 2
}
