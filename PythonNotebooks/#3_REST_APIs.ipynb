{
 "cells": [
  {
   "cell_type": "code",
   "execution_count": 3,
   "metadata": {},
   "outputs": [
    {
     "name": "stderr",
     "output_type": "stream",
     "text": [
      " * Running on http://127.0.0.1:5000/ (Press CTRL+C to quit)\n"
     ]
    }
   ],
   "source": [
    "from flask import Flask\n",
    "from flask import jsonify\n",
    "from flask import request\n",
    "from flask_pymongo import PyMongo\n",
    "\n",
    "app = Flask(__name__)\n",
    "app.config['MONGO_DBNAME'] = 'restdb'\n",
    "app.config['MONGO_URI'] = 'mongodb://localhost:27017/restdb'\n",
    "\n",
    "mongo = PyMongo(app)\n",
    "\n",
    "@app.route(\"/\")\n",
    "def hello():\n",
    "    return \"Hello World!\"\n",
    "\n",
    "@app.route('/allstars', methods=['GET'])\n",
    "def get_all_stars():\n",
    "    star = mongo.db.stars\n",
    "    output = []\n",
    "    for s in star.find():\n",
    "        output.append({'name' : s['name'], 'distance' : s['distance']})\n",
    "    return jsonify({'result' : output})\n",
    " \n",
    "@app.route('/stars/', methods=['GET'])\n",
    "def get_one_star():\n",
    "    name= request.args.get('name')\n",
    "    star = mongo.db.stars\n",
    "    s = star.find_one({'name' : name})\n",
    "    if s:\n",
    "        output = {'name' : s['name'], 'distance' : s['distance']}\n",
    "    else:\n",
    "        output = \"No such name\"\n",
    "    return jsonify({'result' : output})    \n",
    "\n",
    "@app.route('/star', methods=['POST'])\n",
    "def add_star():\n",
    "    star = mongo.db.stars\n",
    "    name = request.json['name']\n",
    "    distance = request.json['distance']\n",
    "    star_id = star.insert({'name': name, 'distance': distance})\n",
    "    new_star = star.find_one({'_id': star_id })\n",
    "    output = {'name' : new_star['name'], 'distance' : new_star['distance']}\n",
    "    return jsonify({'result' : output})\n",
    "\n",
    "if __name__ == \"__main__\":\n",
    "    app.run()"
   ]
  },
  {
   "cell_type": "code",
   "execution_count": null,
   "metadata": {
    "collapsed": true
   },
   "outputs": [],
   "source": []
  }
 ],
 "metadata": {
  "kernelspec": {
   "display_name": "Python 2",
   "language": "python",
   "name": "python2"
  },
  "language_info": {
   "codemirror_mode": {
    "name": "ipython",
    "version": 2
   },
   "file_extension": ".py",
   "mimetype": "text/x-python",
   "name": "python",
   "nbconvert_exporter": "python",
   "pygments_lexer": "ipython2",
   "version": "2.7.13"
  }
 },
 "nbformat": 4,
 "nbformat_minor": 2
}
